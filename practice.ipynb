{
  "nbformat": 4,
  "nbformat_minor": 0,
  "metadata": {
    "colab": {
      "name": "practice.ipynb",
      "provenance": [],
      "collapsed_sections": [],
      "authorship_tag": "ABX9TyNNQ1sLHjK2wZjAfZ4cy0G5",
      "include_colab_link": true
    },
    "kernelspec": {
      "name": "python3",
      "display_name": "Python 3"
    }
  },
  "cells": [
    {
      "cell_type": "markdown",
      "metadata": {
        "id": "view-in-github",
        "colab_type": "text"
      },
      "source": [
        "<a href=\"https://colab.research.google.com/github/mmgrier/Python-Practice/blob/main/practice.ipynb\" target=\"_parent\"><img src=\"https://colab.research.google.com/assets/colab-badge.svg\" alt=\"Open In Colab\"/></a>"
      ]
    },
    {
      "cell_type": "markdown",
      "metadata": {
        "id": "iiEl80yHeWlW"
      },
      "source": [
        "Code Courtesy of Zed A. Shaw's Learn Python the Hard Way"
      ]
    },
    {
      "cell_type": "code",
      "metadata": {
        "colab": {
          "base_uri": "https://localhost:8080/"
        },
        "id": "kwxeiggSeXn1",
        "outputId": "1dde1e0d-cf63-4a85-8b3f-13b3f97e4229"
      },
      "source": [
        "print(\"The official name for this # sign is OCTOTHORPE\")\r\n",
        "print(\"Its a simplified cursive symbol for a latin term dating back to the 14th century and its still popular today\")"
      ],
      "execution_count": null,
      "outputs": [
        {
          "output_type": "stream",
          "text": [
            "The official name for this # sign is OCTOTHORPE\n",
            "Its a simplified cursive symbol for a latin term dating back to the 14th century and its still popular today\n"
          ],
          "name": "stdout"
        }
      ]
    },
    {
      "cell_type": "code",
      "metadata": {
        "colab": {
          "base_uri": "https://localhost:8080/",
          "height": 135
        },
        "id": "hIWgBGE2fmJx",
        "outputId": "d8221159-3356-47e8-e300-64514f319306"
      },
      "source": [
        "#Not a surprise to anyone but python lets '' and \"\" acts as strings\r\n",
        "print(\"Python likes 'this'.\")\r\n",
        "#This gives a syntax errror \r\n",
        "print(\"Python does not like \"this.\" \")\r\n"
      ],
      "execution_count": null,
      "outputs": [
        {
          "output_type": "error",
          "ename": "SyntaxError",
          "evalue": "ignored",
          "traceback": [
            "\u001b[0;36m  File \u001b[0;32m\"<ipython-input-8-ffb8cb4df608>\"\u001b[0;36m, line \u001b[0;32m4\u001b[0m\n\u001b[0;31m    print(\"Python does not like \"this.\" \")\u001b[0m\n\u001b[0m                                    ^\u001b[0m\n\u001b[0;31mSyntaxError\u001b[0m\u001b[0;31m:\u001b[0m invalid syntax\n"
          ]
        }
      ]
    },
    {
      "cell_type": "markdown",
      "metadata": {
        "id": "X7SLFy2khs7K"
      },
      "source": [
        "Practice Variables and Math"
      ]
    },
    {
      "cell_type": "code",
      "metadata": {
        "id": "bjqQymPKhvCP"
      },
      "source": [
        "#Variables\r\n",
        "hens = 25 + 30/ 6\r\n",
        "roosters = 100 - 25 * 3 % 4\r\n",
        "eggs = 3 + 2 + 1 - 5 + 4 % 2 -1 / 4 + 6"
      ],
      "execution_count": null,
      "outputs": []
    },
    {
      "cell_type": "code",
      "metadata": {
        "colab": {
          "base_uri": "https://localhost:8080/"
        },
        "id": "IR2XFFpgiAAl",
        "outputId": "6fc7515a-3564-4bc8-e3f0-d074eb9fdf04"
      },
      "source": [
        "print(\"I have\", hens, \"Hens.\")\r\n",
        "print(\"I have\", roosters, \"Roosters.\")\r\n",
        "print(\"I have\", eggs, \"eggs - the fox ate my egg.\") "
      ],
      "execution_count": null,
      "outputs": [
        {
          "output_type": "stream",
          "text": [
            "I have 30.0 Hens.\n",
            "I have 97 Roosters.\n",
            "I have 6.75 eggs - the fox ate my egg.\n"
          ],
          "name": "stdout"
        }
      ]
    },
    {
      "cell_type": "markdown",
      "metadata": {
        "id": "HvVI3OsSyd73"
      },
      "source": [
        "Format Strings with embedded variables"
      ]
    },
    {
      "cell_type": "code",
      "metadata": {
        "id": "xJRMo-LDyh9I"
      },
      "source": [
        "name = \"Miss\"\r\n",
        "eyes = \"Violet\"\r\n",
        "hair = \"Pink\""
      ],
      "execution_count": 4,
      "outputs": []
    },
    {
      "cell_type": "code",
      "metadata": {
        "colab": {
          "base_uri": "https://localhost:8080/"
        },
        "id": "_lizpmTZyuJB",
        "outputId": "3579a3bf-b82a-4b13-bbe0-831e6477329f"
      },
      "source": [
        "print(f\"Lets talk about {name}.\")\r\n",
        "print(f\"She's got {eyes} eyes and {hair} hair.\")"
      ],
      "execution_count": 5,
      "outputs": [
        {
          "output_type": "stream",
          "text": [
            "Lets talk about Miss.\n",
            "She's got Violet eyes and Pink hair.\n"
          ],
          "name": "stdout"
        }
      ]
    },
    {
      "cell_type": "code",
      "metadata": {
        "colab": {
          "base_uri": "https://localhost:8080/"
        },
        "id": "XZzG_634zJKg",
        "outputId": "0358b681-516c-4605-e0d2-7850b9c2df98"
      },
      "source": [
        "#Lets try adding random numbers using this\r\n",
        "first = 34\r\n",
        "second = 71\r\n",
        "third = 100\r\n",
        "total = first + second + third\r\n",
        "print(f\"If I add first: {first}, second: {second}, and third: {third}, then I get {total}\")"
      ],
      "execution_count": 8,
      "outputs": [
        {
          "output_type": "stream",
          "text": [
            "If I add first: 34, second: 71, and third: 100, then I get 205\n"
          ],
          "name": "stdout"
        }
      ]
    }
  ]
}
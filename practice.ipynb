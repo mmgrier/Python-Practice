{
  "nbformat": 4,
  "nbformat_minor": 0,
  "metadata": {
    "colab": {
      "name": "practice.ipynb",
      "provenance": [],
      "collapsed_sections": [],
      "authorship_tag": "ABX9TyODWY92j24vJ8mhPUW/T+9+",
      "include_colab_link": true
    },
    "kernelspec": {
      "name": "python3",
      "display_name": "Python 3"
    }
  },
  "cells": [
    {
      "cell_type": "markdown",
      "metadata": {
        "id": "view-in-github",
        "colab_type": "text"
      },
      "source": [
        "<a href=\"https://colab.research.google.com/github/mmgrier/Python-Practice/blob/main/practice.ipynb\" target=\"_parent\"><img src=\"https://colab.research.google.com/assets/colab-badge.svg\" alt=\"Open In Colab\"/></a>"
      ]
    },
    {
      "cell_type": "markdown",
      "metadata": {
        "id": "iiEl80yHeWlW"
      },
      "source": [
        "Code Courtesy of Zed A. Shaw's Learn Python the Hard Way"
      ]
    },
    {
      "cell_type": "code",
      "metadata": {
        "colab": {
          "base_uri": "https://localhost:8080/"
        },
        "id": "kwxeiggSeXn1",
        "outputId": "1dde1e0d-cf63-4a85-8b3f-13b3f97e4229"
      },
      "source": [
        "print(\"The official name for this # sign is OCTOTHORPE\")\r\n",
        "print(\"Its a simplified cursive symbol for a latin term dating back to the 14th century and its still popular today\")"
      ],
      "execution_count": null,
      "outputs": [
        {
          "output_type": "stream",
          "text": [
            "The official name for this # sign is OCTOTHORPE\n",
            "Its a simplified cursive symbol for a latin term dating back to the 14th century and its still popular today\n"
          ],
          "name": "stdout"
        }
      ]
    },
    {
      "cell_type": "code",
      "metadata": {
        "colab": {
          "base_uri": "https://localhost:8080/",
          "height": 135
        },
        "id": "hIWgBGE2fmJx",
        "outputId": "d8221159-3356-47e8-e300-64514f319306"
      },
      "source": [
        "#Not a surprise to anyone but python lets '' and \"\" acts as strings\r\n",
        "print(\"Python likes 'this'.\")\r\n",
        "#This gives a syntax errror \r\n",
        "print(\"Python does not like \"this.\" \")\r\n"
      ],
      "execution_count": null,
      "outputs": [
        {
          "output_type": "error",
          "ename": "SyntaxError",
          "evalue": "ignored",
          "traceback": [
            "\u001b[0;36m  File \u001b[0;32m\"<ipython-input-8-ffb8cb4df608>\"\u001b[0;36m, line \u001b[0;32m4\u001b[0m\n\u001b[0;31m    print(\"Python does not like \"this.\" \")\u001b[0m\n\u001b[0m                                    ^\u001b[0m\n\u001b[0;31mSyntaxError\u001b[0m\u001b[0;31m:\u001b[0m invalid syntax\n"
          ]
        }
      ]
    },
    {
      "cell_type": "markdown",
      "metadata": {
        "id": "X7SLFy2khs7K"
      },
      "source": [
        "Practice Variables and Math"
      ]
    },
    {
      "cell_type": "code",
      "metadata": {
        "id": "bjqQymPKhvCP"
      },
      "source": [
        "#Variables\r\n",
        "hens = 25 + 30/ 6\r\n",
        "roosters = 100 - 25 * 3 % 4\r\n",
        "eggs = 3 + 2 + 1 - 5 + 4 % 2 -1 / 4 + 6"
      ],
      "execution_count": null,
      "outputs": []
    },
    {
      "cell_type": "code",
      "metadata": {
        "colab": {
          "base_uri": "https://localhost:8080/"
        },
        "id": "IR2XFFpgiAAl",
        "outputId": "6fc7515a-3564-4bc8-e3f0-d074eb9fdf04"
      },
      "source": [
        "print(\"I have\", hens, \"Hens.\")\r\n",
        "print(\"I have\", roosters, \"Roosters.\")\r\n",
        "print(\"I have\", eggs, \"eggs - the fox ate my egg.\") "
      ],
      "execution_count": null,
      "outputs": [
        {
          "output_type": "stream",
          "text": [
            "I have 30.0 Hens.\n",
            "I have 97 Roosters.\n",
            "I have 6.75 eggs - the fox ate my egg.\n"
          ],
          "name": "stdout"
        }
      ]
    },
    {
      "cell_type": "markdown",
      "metadata": {
        "id": "HvVI3OsSyd73"
      },
      "source": [
        "Format Strings with embedded variables"
      ]
    },
    {
      "cell_type": "code",
      "metadata": {
        "id": "xJRMo-LDyh9I"
      },
      "source": [
        "name = \"Miss\"\r\n",
        "eyes = \"Violet\"\r\n",
        "hair = \"Pink\""
      ],
      "execution_count": null,
      "outputs": []
    },
    {
      "cell_type": "code",
      "metadata": {
        "colab": {
          "base_uri": "https://localhost:8080/"
        },
        "id": "_lizpmTZyuJB",
        "outputId": "3579a3bf-b82a-4b13-bbe0-831e6477329f"
      },
      "source": [
        "print(f\"Lets talk about {name}.\")\r\n",
        "print(f\"She's got {eyes} eyes and {hair} hair.\")"
      ],
      "execution_count": null,
      "outputs": [
        {
          "output_type": "stream",
          "text": [
            "Lets talk about Miss.\n",
            "She's got Violet eyes and Pink hair.\n"
          ],
          "name": "stdout"
        }
      ]
    },
    {
      "cell_type": "code",
      "metadata": {
        "colab": {
          "base_uri": "https://localhost:8080/"
        },
        "id": "XZzG_634zJKg",
        "outputId": "0358b681-516c-4605-e0d2-7850b9c2df98"
      },
      "source": [
        "#Lets try adding random numbers using this\r\n",
        "first = 34\r\n",
        "second = 71\r\n",
        "third = 100\r\n",
        "total = first + second + third\r\n",
        "print(f\"If I add first: {first}, second: {second}, and third: {third}, then I get {total}\")"
      ],
      "execution_count": null,
      "outputs": [
        {
          "output_type": "stream",
          "text": [
            "If I add first: 34, second: 71, and third: 100, then I get 205\n"
          ],
          "name": "stdout"
        }
      ]
    },
    {
      "cell_type": "markdown",
      "metadata": {
        "id": "Jvd_6ZoBJQZq"
      },
      "source": [
        "Exercise 6 "
      ]
    },
    {
      "cell_type": "code",
      "metadata": {
        "colab": {
          "base_uri": "https://localhost:8080/"
        },
        "id": "_yrpiJl-JR1N",
        "outputId": "cb03c178-0ec1-4b66-ef00-69943e62f554"
      },
      "source": [
        "# assign 10 to var. types\r\n",
        "types_of_people = 10\r\n",
        "x = f\"There are {types_of_people} types of people.\" #embed the newly created variable in a string and assign it to x \r\n",
        "\r\n",
        "binary = \"binary\" #binary is the string binary\r\n",
        "do_not = \"don't\" #do_not is the string don't\r\n",
        "y = f\"Those who know {binary} and those who {do_not}.\" #use format string and embed the newly created variables and assign it to y\r\n",
        "\r\n",
        "print(x) #print the format string x\r\n",
        "print (y) #print the format string y"
      ],
      "execution_count": null,
      "outputs": [
        {
          "output_type": "stream",
          "text": [
            "There are 10 types of people.\n",
            "Those who know binary and those who don't.\n"
          ],
          "name": "stdout"
        }
      ]
    },
    {
      "cell_type": "code",
      "metadata": {
        "colab": {
          "base_uri": "https://localhost:8080/"
        },
        "id": "T1Lko_VqKJjV",
        "outputId": "48e0be84-68cc-4c7d-b479-657f9c0b4ade"
      },
      "source": [
        "print(f\"I said {x}\") #embed x into format string\r\n",
        "print(f\"I also said {y}\") #embed y into a format string"
      ],
      "execution_count": null,
      "outputs": [
        {
          "output_type": "stream",
          "text": [
            "I said There are 10 types of people..\n",
            "I also said Those who know binary and those who don't..\n"
          ],
          "name": "stdout"
        }
      ]
    },
    {
      "cell_type": "code",
      "metadata": {
        "colab": {
          "base_uri": "https://localhost:8080/"
        },
        "id": "XRaTSJJdKbHA",
        "outputId": "bdfe3dfa-4f75-4094-ce99-fa729b590754"
      },
      "source": [
        "hilarious = False #create a bool variable assigned as false\r\n",
        "joke_eval = \"Isn't that joke so funny! {}\" #create a string with an empty dictionary\r\n",
        "\r\n",
        "print(joke_eval.format(hilarious)) #print using the format() syntax"
      ],
      "execution_count": null,
      "outputs": [
        {
          "output_type": "stream",
          "text": [
            "Isn't that joke so funny! False\n"
          ],
          "name": "stdout"
        }
      ]
    },
    {
      "cell_type": "code",
      "metadata": {
        "colab": {
          "base_uri": "https://localhost:8080/"
        },
        "id": "jWeGJQqoLOgD",
        "outputId": "af92d6ce-f826-4715-ec63-9a16566e9a20"
      },
      "source": [
        "w = \"This is the left side of...\" #I assume using w as a variable for left means West\r\n",
        "e = \"a string with a right side\" #assign string variable to e\r\n",
        "\r\n",
        "print(w + e) #concatenate the variables to print a single string"
      ],
      "execution_count": null,
      "outputs": [
        {
          "output_type": "stream",
          "text": [
            "This is the left side of...a string with a right side\n"
          ],
          "name": "stdout"
        }
      ]
    },
    {
      "cell_type": "code",
      "metadata": {
        "colab": {
          "base_uri": "https://localhost:8080/"
        },
        "id": "YLtFRtKDrFEG",
        "outputId": "f50cc91c-bf9d-4477-fec4-10f0d461c9ce"
      },
      "source": [
        "print(\"meow \" * 10) #how to get a symbol or string to repeat"
      ],
      "execution_count": null,
      "outputs": [
        {
          "output_type": "stream",
          "text": [
            "meow meow meow meow meow meow meow meow meow meow \n"
          ],
          "name": "stdout"
        }
      ]
    },
    {
      "cell_type": "code",
      "metadata": {
        "colab": {
          "base_uri": "https://localhost:8080/"
        },
        "id": "M07OfqxrrNt9",
        "outputId": "464e21dc-821f-4fbb-952d-2569d04c887c"
      },
      "source": [
        "#More printing practice\r\n",
        "formatter = \"{} {} {} {}\" #creating a dictionary assined to formatter\r\n",
        "\r\n",
        "print(formatter.format(1,2,3,4)) #called format to print substitute 1-4 in formatter\r\n",
        "print(formatter.format(\"one\", \"two\", \"three\", \"four\"))"
      ],
      "execution_count": null,
      "outputs": [
        {
          "output_type": "stream",
          "text": [
            "1 2 3 4\n",
            "one two three four\n"
          ],
          "name": "stdout"
        }
      ]
    },
    {
      "cell_type": "code",
      "metadata": {
        "id": "7HyQk_35ag_N",
        "colab": {
          "base_uri": "https://localhost:8080/"
        },
        "outputId": "2f2e9c67-0f39-47ec-89c2-eb06ec03092d"
      },
      "source": [
        "days = \"Mon Tue Wed Thu Fri Sat Sun\"\r\n",
        "months = \"Jan\\nFeb\\nMar\\nApr\\nMay\\nJun\\nJul\\nAug\"\r\n",
        "\r\n",
        "print(\"Here are the days: \", days)\r\n",
        "print(\"Here are the months: \", months)\r\n",
        "\r\n",
        "print(\"\"\"\r\n",
        "Using triple double-quotes to\r\n",
        "print as many lines as I want\r\n",
        "with a single print statement\r\n",
        "\"\"\")"
      ],
      "execution_count": 2,
      "outputs": [
        {
          "output_type": "stream",
          "text": [
            "Here are the days:  Mon Tue Wed Thu Fri Sat Sun\n",
            "Here are the months:  Jan\n",
            "Feb\n",
            "Mar\n",
            "Apr\n",
            "May\n",
            "Jun\n",
            "Jul\n",
            "Aug\n",
            "\n",
            "Using triple double-quotes to\n",
            "print as many lines as I want\n",
            "with a single print statement\n",
            "\n"
          ],
          "name": "stdout"
        }
      ]
    },
    {
      "cell_type": "code",
      "metadata": {
        "id": "9tiM7-zP9ZNP"
      },
      "source": [
        ""
      ],
      "execution_count": null,
      "outputs": []
    }
  ]
}
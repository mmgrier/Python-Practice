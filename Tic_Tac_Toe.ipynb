{
  "nbformat": 4,
  "nbformat_minor": 0,
  "metadata": {
    "colab": {
      "name": "Tic-Tac-Toe.ipynb",
      "provenance": [],
      "authorship_tag": "ABX9TyOizPNGOmJ6fj7XOc6xgIZD",
      "include_colab_link": true
    },
    "kernelspec": {
      "name": "python3",
      "display_name": "Python 3"
    }
  },
  "cells": [
    {
      "cell_type": "markdown",
      "metadata": {
        "id": "view-in-github",
        "colab_type": "text"
      },
      "source": [
        "<a href=\"https://colab.research.google.com/github/mmgrier/Python-Practice/blob/main/Tic_Tac_Toe.ipynb\" target=\"_parent\"><img src=\"https://colab.research.google.com/assets/colab-badge.svg\" alt=\"Open In Colab\"/></a>"
      ]
    },
    {
      "cell_type": "code",
      "metadata": {
        "id": "6JjStdoFlJtg"
      },
      "source": [
        "#Octothorpe for fun using a dictionary as a game board\r\n",
        "theBoard = {'7': ' ' , '8': ' ' , '9': ' ' ,\r\n",
        "            '4': ' ' , '5': ' ' , '6': ' ' ,\r\n",
        "            '1': ' ' , '2': ' ' , '3': ' ' }\r\n",
        "            \r\n",
        "def printBoard(board):\r\n",
        "    print(board['7'] + '|' + board['8'] + '|' + board['9'])\r\n",
        "    print('-+-+-')\r\n",
        "    print(board['4'] + '|' + board['5'] + '|' + board['6'])\r\n",
        "    print('-+-+-')\r\n",
        "    print(board['1'] + '|' + board['2'] + '|' + board['3'])"
      ],
      "execution_count": 2,
      "outputs": []
    },
    {
      "cell_type": "code",
      "metadata": {
        "colab": {
          "base_uri": "https://localhost:8080/"
        },
        "id": "wKMGy6KYld4v",
        "outputId": "a99147b6-f2d2-4edf-cac6-ff10e48e1710"
      },
      "source": [
        "printBoard(theBoard)"
      ],
      "execution_count": 5,
      "outputs": [
        {
          "output_type": "stream",
          "text": [
            " | | \n",
            "-+-+-\n",
            " | | \n",
            "-+-+-\n",
            " | | \n"
          ],
          "name": "stdout"
        }
      ]
    }
  ]
}
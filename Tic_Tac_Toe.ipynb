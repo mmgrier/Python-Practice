{
  "nbformat": 4,
  "nbformat_minor": 0,
  "metadata": {
    "colab": {
      "name": "Tic-Tac-Toe.ipynb",
      "provenance": [],
      "collapsed_sections": [],
      "authorship_tag": "ABX9TyOSBWISI7XDei7v13r9/OYu",
      "include_colab_link": true
    },
    "kernelspec": {
      "name": "python3",
      "display_name": "Python 3"
    }
  },
  "cells": [
    {
      "cell_type": "markdown",
      "metadata": {
        "id": "view-in-github",
        "colab_type": "text"
      },
      "source": [
        "<a href=\"https://colab.research.google.com/github/mmgrier/Python-Practice/blob/main/Tic_Tac_Toe.ipynb\" target=\"_parent\"><img src=\"https://colab.research.google.com/assets/colab-badge.svg\" alt=\"Open In Colab\"/></a>"
      ]
    },
    {
      "cell_type": "code",
      "metadata": {
        "id": "6JjStdoFlJtg"
      },
      "source": [
        "#Octothorpe for fun using a dictionary as a game board\r\n",
        "#Code Courtesy of https://medium.com/byte-tales/the-classic-tic-tac-toe-game-in-python-3-1427c68b8874\r\n",
        "theBoard = {'7': ' ' , '8': ' ' , '9': ' ' ,\r\n",
        "            '4': ' ' , '5': ' ' , '6': ' ' ,\r\n",
        "            '1': ' ' , '2': ' ' , '3': ' ' }\r\n",
        "            \r\n",
        "def printBoard(board):\r\n",
        "    print(board['7'] + '|' + board['8'] + '|' + board['9'])\r\n",
        "    print('-+-+-')\r\n",
        "    print(board['4'] + '|' + board['5'] + '|' + board['6'])\r\n",
        "    print('-+-+-')\r\n",
        "    print(board['1'] + '|' + board['2'] + '|' + board['3'])"
      ],
      "execution_count": 2,
      "outputs": []
    },
    {
      "cell_type": "code",
      "metadata": {
        "colab": {
          "base_uri": "https://localhost:8080/"
        },
        "id": "wKMGy6KYld4v",
        "outputId": "a99147b6-f2d2-4edf-cac6-ff10e48e1710"
      },
      "source": [
        "printBoard(theBoard)"
      ],
      "execution_count": 5,
      "outputs": [
        {
          "output_type": "stream",
          "text": [
            " | | \n",
            "-+-+-\n",
            " | | \n",
            "-+-+-\n",
            " | | \n"
          ],
          "name": "stdout"
        }
      ]
    },
    {
      "cell_type": "code",
      "metadata": {
        "colab": {
          "base_uri": "https://localhost:8080/",
          "height": 971
        },
        "id": "J1zP7XrDmFXu",
        "outputId": "45ed2c71-da6f-4528-de18-19ebe0a32611"
      },
      "source": [
        "#work on making this one-player against computer and also check user input\r\n",
        "board_keys = []\r\n",
        "\r\n",
        "for key in theBoard:\r\n",
        "    board_keys.append(key)\r\n",
        "\r\n",
        "''' We will have to print the updated board after every move in the game and \r\n",
        "    thus we will make a function in which we'll define the printBoard function\r\n",
        "    so that we can easily print the board everytime by calling this function. '''\r\n",
        "\r\n",
        "def printBoard(board):\r\n",
        "    print(board['7'] + '|' + board['8'] + '|' + board['9'])\r\n",
        "    print('-+-+-')\r\n",
        "    print(board['4'] + '|' + board['5'] + '|' + board['6'])\r\n",
        "    print('-+-+-')\r\n",
        "    print(board['1'] + '|' + board['2'] + '|' + board['3'])\r\n",
        "\r\n",
        "# Now we'll write the main function which has all the gameplay functionality.\r\n",
        "def game():\r\n",
        "\r\n",
        "    turn = 'X'\r\n",
        "    count = 0\r\n",
        "\r\n",
        "\r\n",
        "    for i in range(10):\r\n",
        "        printBoard(theBoard)\r\n",
        "        print(\"It's your turn,\" + turn + \".Move to which place?\")\r\n",
        "\r\n",
        "        move = input()        \r\n",
        "\r\n",
        "        if theBoard[move] == ' ':\r\n",
        "            theBoard[move] = turn\r\n",
        "            count += 1\r\n",
        "        else:\r\n",
        "            print(\"That place is already filled.\\nMove to which place?\")\r\n",
        "            continue\r\n",
        "\r\n",
        "        # Now we will check if player X or O has won,for every move after 5 moves. \r\n",
        "        if count >= 5:\r\n",
        "            if theBoard['7'] == theBoard['8'] == theBoard['9'] != ' ': # across the top\r\n",
        "                printBoard(theBoard)\r\n",
        "                print(\"\\nGame Over.\\n\")                \r\n",
        "                print(\" **** \" +turn + \" won. ****\")                \r\n",
        "                break\r\n",
        "            elif theBoard['4'] == theBoard['5'] == theBoard['6'] != ' ': # across the middle\r\n",
        "                printBoard(theBoard)\r\n",
        "                print(\"\\nGame Over.\\n\")                \r\n",
        "                print(\" **** \" +turn + \" won. ****\")\r\n",
        "                break\r\n",
        "            elif theBoard['1'] == theBoard['2'] == theBoard['3'] != ' ': # across the bottom\r\n",
        "                printBoard(theBoard)\r\n",
        "                print(\"\\nGame Over.\\n\")                \r\n",
        "                print(\" **** \" +turn + \" won. ****\")\r\n",
        "                break\r\n",
        "            elif theBoard['1'] == theBoard['4'] == theBoard['7'] != ' ': # down the left side\r\n",
        "                printBoard(theBoard)\r\n",
        "                print(\"\\nGame Over.\\n\")                \r\n",
        "                print(\" **** \" +turn + \" won. ****\")\r\n",
        "                break\r\n",
        "            elif theBoard['2'] == theBoard['5'] == theBoard['8'] != ' ': # down the middle\r\n",
        "                printBoard(theBoard)\r\n",
        "                print(\"\\nGame Over.\\n\")                \r\n",
        "                print(\" **** \" +turn + \" won. ****\")\r\n",
        "                break\r\n",
        "            elif theBoard['3'] == theBoard['6'] == theBoard['9'] != ' ': # down the right side\r\n",
        "                printBoard(theBoard)\r\n",
        "                print(\"\\nGame Over.\\n\")                \r\n",
        "                print(\" **** \" +turn + \" won. ****\")\r\n",
        "                break \r\n",
        "            elif theBoard['7'] == theBoard['5'] == theBoard['3'] != ' ': # diagonal\r\n",
        "                printBoard(theBoard)\r\n",
        "                print(\"\\nGame Over.\\n\")                \r\n",
        "                print(\" **** \" +turn + \" won. ****\")\r\n",
        "                break\r\n",
        "            elif theBoard['1'] == theBoard['5'] == theBoard['9'] != ' ': # diagonal\r\n",
        "                printBoard(theBoard)\r\n",
        "                print(\"\\nGame Over.\\n\")                \r\n",
        "                print(\" **** \" +turn + \" won. ****\")\r\n",
        "                break \r\n",
        "\r\n",
        "        # If neither X nor O wins and the board is full, we'll declare the result as 'tie'.\r\n",
        "        if count == 9:\r\n",
        "            print(\"\\nGame Over.\\n\")                \r\n",
        "            print(\"It's a Tie!!\")\r\n",
        "\r\n",
        "        # Now we have to change the player after every move.\r\n",
        "        if turn =='X':\r\n",
        "            turn = 'O'\r\n",
        "        else:\r\n",
        "            turn = 'X'        \r\n",
        "    \r\n",
        "    # Now we will ask if player wants to restart the game or not.\r\n",
        "    restart = input(\"Do want to play Again?(y/n)\")\r\n",
        "    if restart == \"y\" or restart == \"Y\":  \r\n",
        "        for key in board_keys:\r\n",
        "            theBoard[key] = \" \"\r\n",
        "\r\n",
        "        game()\r\n",
        "\r\n",
        "if __name__ == \"__main__\":\r\n",
        "    game()"
      ],
      "execution_count": 6,
      "outputs": [
        {
          "output_type": "stream",
          "text": [
            " | | \n",
            "-+-+-\n",
            " | | \n",
            "-+-+-\n",
            " | | \n",
            "It's your turn,X.Move to which place?\n",
            "3\n",
            " | | \n",
            "-+-+-\n",
            " | | \n",
            "-+-+-\n",
            " | |X\n",
            "It's your turn,O.Move to which place?\n",
            "4\n",
            " | | \n",
            "-+-+-\n",
            "O| | \n",
            "-+-+-\n",
            " | |X\n",
            "It's your turn,X.Move to which place?\n",
            "8\n",
            " |X| \n",
            "-+-+-\n",
            "O| | \n",
            "-+-+-\n",
            " | |X\n",
            "It's your turn,O.Move to which place?\n",
            "9\n",
            " |X|O\n",
            "-+-+-\n",
            "O| | \n",
            "-+-+-\n",
            " | |X\n",
            "It's your turn,X.Move to which place?\n",
            "10\n"
          ],
          "name": "stdout"
        },
        {
          "output_type": "error",
          "ename": "KeyError",
          "evalue": "ignored",
          "traceback": [
            "\u001b[0;31m---------------------------------------------------------------------------\u001b[0m",
            "\u001b[0;31mKeyError\u001b[0m                                  Traceback (most recent call last)",
            "\u001b[0;32m<ipython-input-6-fcb058ee574f>\u001b[0m in \u001b[0;36m<module>\u001b[0;34m()\u001b[0m\n\u001b[1;32m     98\u001b[0m \u001b[0;34m\u001b[0m\u001b[0m\n\u001b[1;32m     99\u001b[0m \u001b[0;32mif\u001b[0m \u001b[0m__name__\u001b[0m \u001b[0;34m==\u001b[0m \u001b[0;34m\"__main__\"\u001b[0m\u001b[0;34m:\u001b[0m\u001b[0;34m\u001b[0m\u001b[0;34m\u001b[0m\u001b[0m\n\u001b[0;32m--> 100\u001b[0;31m     \u001b[0mgame\u001b[0m\u001b[0;34m(\u001b[0m\u001b[0;34m)\u001b[0m\u001b[0;34m\u001b[0m\u001b[0;34m\u001b[0m\u001b[0m\n\u001b[0m",
            "\u001b[0;32m<ipython-input-6-fcb058ee574f>\u001b[0m in \u001b[0;36mgame\u001b[0;34m()\u001b[0m\n\u001b[1;32m     28\u001b[0m         \u001b[0mmove\u001b[0m \u001b[0;34m=\u001b[0m \u001b[0minput\u001b[0m\u001b[0;34m(\u001b[0m\u001b[0;34m)\u001b[0m\u001b[0;34m\u001b[0m\u001b[0;34m\u001b[0m\u001b[0m\n\u001b[1;32m     29\u001b[0m \u001b[0;34m\u001b[0m\u001b[0m\n\u001b[0;32m---> 30\u001b[0;31m         \u001b[0;32mif\u001b[0m \u001b[0mtheBoard\u001b[0m\u001b[0;34m[\u001b[0m\u001b[0mmove\u001b[0m\u001b[0;34m]\u001b[0m \u001b[0;34m==\u001b[0m \u001b[0;34m' '\u001b[0m\u001b[0;34m:\u001b[0m\u001b[0;34m\u001b[0m\u001b[0;34m\u001b[0m\u001b[0m\n\u001b[0m\u001b[1;32m     31\u001b[0m             \u001b[0mtheBoard\u001b[0m\u001b[0;34m[\u001b[0m\u001b[0mmove\u001b[0m\u001b[0;34m]\u001b[0m \u001b[0;34m=\u001b[0m \u001b[0mturn\u001b[0m\u001b[0;34m\u001b[0m\u001b[0;34m\u001b[0m\u001b[0m\n\u001b[1;32m     32\u001b[0m             \u001b[0mcount\u001b[0m \u001b[0;34m+=\u001b[0m \u001b[0;36m1\u001b[0m\u001b[0;34m\u001b[0m\u001b[0;34m\u001b[0m\u001b[0m\n",
            "\u001b[0;31mKeyError\u001b[0m: '10'"
          ]
        }
      ]
    }
  ]
}